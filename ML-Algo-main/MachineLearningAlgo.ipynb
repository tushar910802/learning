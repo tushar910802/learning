{
  "nbformat": 4,
  "nbformat_minor": 0,
  "metadata": {
    "colab": {
      "name": "MachineLearningAlgo.ipynb",
      "provenance": [],
      "authorship_tag": "ABX9TyMtK0xscfGq6VqrjKHecSbt",
      "include_colab_link": true
    },
    "kernelspec": {
      "name": "python3",
      "display_name": "Python 3"
    },
    "language_info": {
      "name": "python"
    }
  },
  "cells": [
    {
      "cell_type": "markdown",
      "metadata": {
        "id": "view-in-github",
        "colab_type": "text"
      },
      "source": [
        "<a href=\"https://colab.research.google.com/github/tushar910802/ML-Algo/blob/main/MachineLearningAlgo.ipynb\" target=\"_parent\"><img src=\"https://colab.research.google.com/assets/colab-badge.svg\" alt=\"Open In Colab\"/></a>"
      ]
    },
    {
      "cell_type": "markdown",
      "source": [
        "Github Link - https://github.com/PacktPublishing/Machine-Learning-Algorithms-Second-Edition"
      ],
      "metadata": {
        "id": "oYajtWeqxOXJ"
      }
    },
    {
      "cell_type": "code",
      "source": [
        ""
      ],
      "metadata": {
        "id": "zIlsUzBJxQns"
      },
      "execution_count": null,
      "outputs": []
    }
  ]
}