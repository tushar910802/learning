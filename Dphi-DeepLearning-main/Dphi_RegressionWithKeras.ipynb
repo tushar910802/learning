{
  "nbformat": 4,
  "nbformat_minor": 0,
  "metadata": {
    "colab": {
      "name": "Dphi-RegressionWithKeras.ipynb",
      "provenance": [],
      "collapsed_sections": [],
      "authorship_tag": "ABX9TyNcUdNgUqQOtOPCkRDeG0cM",
      "include_colab_link": true
    },
    "kernelspec": {
      "name": "python3",
      "display_name": "Python 3"
    },
    "language_info": {
      "name": "python"
    }
  },
  "cells": [
    {
      "cell_type": "markdown",
      "metadata": {
        "id": "view-in-github",
        "colab_type": "text"
      },
      "source": [
        "<a href=\"https://colab.research.google.com/github/tushar910802/Dphi-DeepLearning/blob/main/Dphi_RegressionWithKeras.ipynb\" target=\"_parent\"><img src=\"https://colab.research.google.com/assets/colab-badge.svg\" alt=\"Open In Colab\"/></a>"
      ]
    },
    {
      "cell_type": "code",
      "execution_count": 2,
      "metadata": {
        "id": "QmI2b1B9g1Pi"
      },
      "outputs": [],
      "source": [
        "import numpy as np\n",
        "import pandas as pd\n",
        "import matplotlib.pyplot as plt"
      ]
    },
    {
      "cell_type": "code",
      "source": [
        "boston_data = pd.read_csv('https://raw.githubusercontent.com/dphi-official/Datasets/master/Boston_Housing/Training_set_boston.csv')"
      ],
      "metadata": {
        "id": "_LoJ5ryyhODa"
      },
      "execution_count": 3,
      "outputs": []
    },
    {
      "cell_type": "code",
      "source": [
        "boston_data.head()"
      ],
      "metadata": {
        "colab": {
          "base_uri": "https://localhost:8080/",
          "height": 270
        },
        "id": "WTXUqCa4hTgo",
        "outputId": "42b96eb5-0cda-4708-95de-7b9346c3bc7a"
      },
      "execution_count": 4,
      "outputs": [
        {
          "output_type": "execute_result",
          "data": {
            "text/plain": [
              "       CRIM    ZN  INDUS  CHAS     NOX     RM   AGE     DIS   RAD    TAX  \\\n",
              "0  15.02340   0.0  18.10   0.0  0.6140  5.304  97.3  2.1007  24.0  666.0   \n",
              "1   0.62739   0.0   8.14   0.0  0.5380  5.834  56.5  4.4986   4.0  307.0   \n",
              "2   0.03466  35.0   6.06   0.0  0.4379  6.031  23.3  6.6407   1.0  304.0   \n",
              "3   7.05042   0.0  18.10   0.0  0.6140  6.103  85.1  2.0218  24.0  666.0   \n",
              "4   0.72580   0.0   8.14   0.0  0.5380  5.727  69.5  3.7965   4.0  307.0   \n",
              "\n",
              "   PTRATIO       B  LSTAT  MEDV  \n",
              "0     20.2  349.48  24.91  12.0  \n",
              "1     21.0  395.62   8.47  19.9  \n",
              "2     16.9  362.25   7.83  19.4  \n",
              "3     20.2    2.52  23.29  13.4  \n",
              "4     21.0  390.95  11.28  18.2  "
            ],
            "text/html": [
              "\n",
              "  <div id=\"df-3c2df4ae-2369-4132-9a32-1ad71194ddc8\">\n",
              "    <div class=\"colab-df-container\">\n",
              "      <div>\n",
              "<style scoped>\n",
              "    .dataframe tbody tr th:only-of-type {\n",
              "        vertical-align: middle;\n",
              "    }\n",
              "\n",
              "    .dataframe tbody tr th {\n",
              "        vertical-align: top;\n",
              "    }\n",
              "\n",
              "    .dataframe thead th {\n",
              "        text-align: right;\n",
              "    }\n",
              "</style>\n",
              "<table border=\"1\" class=\"dataframe\">\n",
              "  <thead>\n",
              "    <tr style=\"text-align: right;\">\n",
              "      <th></th>\n",
              "      <th>CRIM</th>\n",
              "      <th>ZN</th>\n",
              "      <th>INDUS</th>\n",
              "      <th>CHAS</th>\n",
              "      <th>NOX</th>\n",
              "      <th>RM</th>\n",
              "      <th>AGE</th>\n",
              "      <th>DIS</th>\n",
              "      <th>RAD</th>\n",
              "      <th>TAX</th>\n",
              "      <th>PTRATIO</th>\n",
              "      <th>B</th>\n",
              "      <th>LSTAT</th>\n",
              "      <th>MEDV</th>\n",
              "    </tr>\n",
              "  </thead>\n",
              "  <tbody>\n",
              "    <tr>\n",
              "      <th>0</th>\n",
              "      <td>15.02340</td>\n",
              "      <td>0.0</td>\n",
              "      <td>18.10</td>\n",
              "      <td>0.0</td>\n",
              "      <td>0.6140</td>\n",
              "      <td>5.304</td>\n",
              "      <td>97.3</td>\n",
              "      <td>2.1007</td>\n",
              "      <td>24.0</td>\n",
              "      <td>666.0</td>\n",
              "      <td>20.2</td>\n",
              "      <td>349.48</td>\n",
              "      <td>24.91</td>\n",
              "      <td>12.0</td>\n",
              "    </tr>\n",
              "    <tr>\n",
              "      <th>1</th>\n",
              "      <td>0.62739</td>\n",
              "      <td>0.0</td>\n",
              "      <td>8.14</td>\n",
              "      <td>0.0</td>\n",
              "      <td>0.5380</td>\n",
              "      <td>5.834</td>\n",
              "      <td>56.5</td>\n",
              "      <td>4.4986</td>\n",
              "      <td>4.0</td>\n",
              "      <td>307.0</td>\n",
              "      <td>21.0</td>\n",
              "      <td>395.62</td>\n",
              "      <td>8.47</td>\n",
              "      <td>19.9</td>\n",
              "    </tr>\n",
              "    <tr>\n",
              "      <th>2</th>\n",
              "      <td>0.03466</td>\n",
              "      <td>35.0</td>\n",
              "      <td>6.06</td>\n",
              "      <td>0.0</td>\n",
              "      <td>0.4379</td>\n",
              "      <td>6.031</td>\n",
              "      <td>23.3</td>\n",
              "      <td>6.6407</td>\n",
              "      <td>1.0</td>\n",
              "      <td>304.0</td>\n",
              "      <td>16.9</td>\n",
              "      <td>362.25</td>\n",
              "      <td>7.83</td>\n",
              "      <td>19.4</td>\n",
              "    </tr>\n",
              "    <tr>\n",
              "      <th>3</th>\n",
              "      <td>7.05042</td>\n",
              "      <td>0.0</td>\n",
              "      <td>18.10</td>\n",
              "      <td>0.0</td>\n",
              "      <td>0.6140</td>\n",
              "      <td>6.103</td>\n",
              "      <td>85.1</td>\n",
              "      <td>2.0218</td>\n",
              "      <td>24.0</td>\n",
              "      <td>666.0</td>\n",
              "      <td>20.2</td>\n",
              "      <td>2.52</td>\n",
              "      <td>23.29</td>\n",
              "      <td>13.4</td>\n",
              "    </tr>\n",
              "    <tr>\n",
              "      <th>4</th>\n",
              "      <td>0.72580</td>\n",
              "      <td>0.0</td>\n",
              "      <td>8.14</td>\n",
              "      <td>0.0</td>\n",
              "      <td>0.5380</td>\n",
              "      <td>5.727</td>\n",
              "      <td>69.5</td>\n",
              "      <td>3.7965</td>\n",
              "      <td>4.0</td>\n",
              "      <td>307.0</td>\n",
              "      <td>21.0</td>\n",
              "      <td>390.95</td>\n",
              "      <td>11.28</td>\n",
              "      <td>18.2</td>\n",
              "    </tr>\n",
              "  </tbody>\n",
              "</table>\n",
              "</div>\n",
              "      <button class=\"colab-df-convert\" onclick=\"convertToInteractive('df-3c2df4ae-2369-4132-9a32-1ad71194ddc8')\"\n",
              "              title=\"Convert this dataframe to an interactive table.\"\n",
              "              style=\"display:none;\">\n",
              "        \n",
              "  <svg xmlns=\"http://www.w3.org/2000/svg\" height=\"24px\"viewBox=\"0 0 24 24\"\n",
              "       width=\"24px\">\n",
              "    <path d=\"M0 0h24v24H0V0z\" fill=\"none\"/>\n",
              "    <path d=\"M18.56 5.44l.94 2.06.94-2.06 2.06-.94-2.06-.94-.94-2.06-.94 2.06-2.06.94zm-11 1L8.5 8.5l.94-2.06 2.06-.94-2.06-.94L8.5 2.5l-.94 2.06-2.06.94zm10 10l.94 2.06.94-2.06 2.06-.94-2.06-.94-.94-2.06-.94 2.06-2.06.94z\"/><path d=\"M17.41 7.96l-1.37-1.37c-.4-.4-.92-.59-1.43-.59-.52 0-1.04.2-1.43.59L10.3 9.45l-7.72 7.72c-.78.78-.78 2.05 0 2.83L4 21.41c.39.39.9.59 1.41.59.51 0 1.02-.2 1.41-.59l7.78-7.78 2.81-2.81c.8-.78.8-2.07 0-2.86zM5.41 20L4 18.59l7.72-7.72 1.47 1.35L5.41 20z\"/>\n",
              "  </svg>\n",
              "      </button>\n",
              "      \n",
              "  <style>\n",
              "    .colab-df-container {\n",
              "      display:flex;\n",
              "      flex-wrap:wrap;\n",
              "      gap: 12px;\n",
              "    }\n",
              "\n",
              "    .colab-df-convert {\n",
              "      background-color: #E8F0FE;\n",
              "      border: none;\n",
              "      border-radius: 50%;\n",
              "      cursor: pointer;\n",
              "      display: none;\n",
              "      fill: #1967D2;\n",
              "      height: 32px;\n",
              "      padding: 0 0 0 0;\n",
              "      width: 32px;\n",
              "    }\n",
              "\n",
              "    .colab-df-convert:hover {\n",
              "      background-color: #E2EBFA;\n",
              "      box-shadow: 0px 1px 2px rgba(60, 64, 67, 0.3), 0px 1px 3px 1px rgba(60, 64, 67, 0.15);\n",
              "      fill: #174EA6;\n",
              "    }\n",
              "\n",
              "    [theme=dark] .colab-df-convert {\n",
              "      background-color: #3B4455;\n",
              "      fill: #D2E3FC;\n",
              "    }\n",
              "\n",
              "    [theme=dark] .colab-df-convert:hover {\n",
              "      background-color: #434B5C;\n",
              "      box-shadow: 0px 1px 3px 1px rgba(0, 0, 0, 0.15);\n",
              "      filter: drop-shadow(0px 1px 2px rgba(0, 0, 0, 0.3));\n",
              "      fill: #FFFFFF;\n",
              "    }\n",
              "  </style>\n",
              "\n",
              "      <script>\n",
              "        const buttonEl =\n",
              "          document.querySelector('#df-3c2df4ae-2369-4132-9a32-1ad71194ddc8 button.colab-df-convert');\n",
              "        buttonEl.style.display =\n",
              "          google.colab.kernel.accessAllowed ? 'block' : 'none';\n",
              "\n",
              "        async function convertToInteractive(key) {\n",
              "          const element = document.querySelector('#df-3c2df4ae-2369-4132-9a32-1ad71194ddc8');\n",
              "          const dataTable =\n",
              "            await google.colab.kernel.invokeFunction('convertToInteractive',\n",
              "                                                     [key], {});\n",
              "          if (!dataTable) return;\n",
              "\n",
              "          const docLinkHtml = 'Like what you see? Visit the ' +\n",
              "            '<a target=\"_blank\" href=https://colab.research.google.com/notebooks/data_table.ipynb>data table notebook</a>'\n",
              "            + ' to learn more about interactive tables.';\n",
              "          element.innerHTML = '';\n",
              "          dataTable['output_type'] = 'display_data';\n",
              "          await google.colab.output.renderOutput(dataTable, element);\n",
              "          const docLink = document.createElement('div');\n",
              "          docLink.innerHTML = docLinkHtml;\n",
              "          element.appendChild(docLink);\n",
              "        }\n",
              "      </script>\n",
              "    </div>\n",
              "  </div>\n",
              "  "
            ]
          },
          "metadata": {},
          "execution_count": 4
        }
      ]
    },
    {
      "cell_type": "code",
      "source": [
        "boston_data.shape"
      ],
      "metadata": {
        "colab": {
          "base_uri": "https://localhost:8080/"
        },
        "id": "gLp84LU3hVdo",
        "outputId": "7a7cc6c8-dca2-4c96-9a12-e7dc4494b986"
      },
      "execution_count": 5,
      "outputs": [
        {
          "output_type": "execute_result",
          "data": {
            "text/plain": [
              "(404, 14)"
            ]
          },
          "metadata": {},
          "execution_count": 5
        }
      ]
    },
    {
      "cell_type": "code",
      "source": [
        "X = boston_data.drop('MEDV',axis = 1)\n",
        "y = boston_data.MEDV"
      ],
      "metadata": {
        "id": "3A_DbHT5hXAK"
      },
      "execution_count": 6,
      "outputs": []
    },
    {
      "cell_type": "code",
      "source": [
        "from sklearn.model_selection import train_test_split\n",
        "\n",
        "X_train, X_test, y_train, y_test = train_test_split(X,y,train_size=0.2,random_state=42)\n",
        "print(X_train.shape)\n",
        "print(X_test.shape)\n",
        "print(y_train.shape)"
      ],
      "metadata": {
        "colab": {
          "base_uri": "https://localhost:8080/"
        },
        "id": "qEzAXlNAhgjv",
        "outputId": "9aa3d18a-03f0-408b-fd22-aa1e1225ba87"
      },
      "execution_count": 33,
      "outputs": [
        {
          "output_type": "stream",
          "name": "stdout",
          "text": [
            "(80, 13)\n",
            "(324, 13)\n",
            "(80,)\n"
          ]
        }
      ]
    },
    {
      "cell_type": "code",
      "source": [
        "n_features = X.shape[1]\n",
        "print(n_features)"
      ],
      "metadata": {
        "colab": {
          "base_uri": "https://localhost:8080/"
        },
        "id": "mxA124K7ihv3",
        "outputId": "c343f104-58c6-4e88-e589-9f46ddf7ee80"
      },
      "execution_count": 34,
      "outputs": [
        {
          "output_type": "stream",
          "name": "stdout",
          "text": [
            "13\n"
          ]
        }
      ]
    },
    {
      "cell_type": "code",
      "source": [
        "# !pip install tensorflow"
      ],
      "metadata": {
        "id": "MUa9WA8RiOk2"
      },
      "execution_count": 38,
      "outputs": []
    },
    {
      "cell_type": "code",
      "source": [
        "from tensorflow.keras import Sequential\n",
        "from tensorflow.keras.layers import Dense\n",
        "\n",
        "from numpy.random import seed\n",
        "import tensorflow\n",
        "from tensorflow.keras.optimizers import RMSprop\n"
      ],
      "metadata": {
        "id": "zAri0hYZhhm1"
      },
      "execution_count": 37,
      "outputs": []
    },
    {
      "cell_type": "code",
      "source": [
        "model = Sequential()\n",
        "model.add(Dense(10,activation = 'relu',input_shape= (n_features,)))\n",
        "model.add(Dense(8,activation = 'relu'))\n",
        "model.add(Dense(1))"
      ],
      "metadata": {
        "id": "RN84uBlYiKt7"
      },
      "execution_count": 39,
      "outputs": []
    },
    {
      "cell_type": "code",
      "source": [
        "optimizer = RMSprop(0.001)   ## 0.01 is learning rate"
      ],
      "metadata": {
        "id": "lTdbNArLizLf"
      },
      "execution_count": 40,
      "outputs": []
    },
    {
      "cell_type": "code",
      "source": [
        "model.compile(loss = 'mean_squared_error',optimizer = optimizer)"
      ],
      "metadata": {
        "id": "EuJ3G88Zi-pu"
      },
      "execution_count": 41,
      "outputs": []
    },
    {
      "cell_type": "code",
      "source": [
        "seed_value = 42\n",
        "seed(seed_value)\n",
        "\n",
        "import os\n",
        "os.environ['PYTHONHASHSEED']=str(seed_value)\n",
        "\n",
        "import random\n",
        "random.seed(seed_value)\n",
        "\n",
        "import numpy as np\n",
        "np.random.seed(seed_value)"
      ],
      "metadata": {
        "id": "WZ1vdoIGjIqJ"
      },
      "execution_count": 42,
      "outputs": []
    },
    {
      "cell_type": "code",
      "source": [
        "tensorflow.random.set_seed(seed_value)\n",
        "model.fit(X_train, y_train, epochs=10, batch_size=30, verbose = 1) "
      ],
      "metadata": {
        "colab": {
          "base_uri": "https://localhost:8080/"
        },
        "id": "XHDZAFZRjTbf",
        "outputId": "b1b2e383-8742-4380-a95d-315346c47245"
      },
      "execution_count": 43,
      "outputs": [
        {
          "output_type": "stream",
          "name": "stdout",
          "text": [
            "Epoch 1/10\n",
            "3/3 [==============================] - 0s 4ms/step - loss: 587.5740\n",
            "Epoch 2/10\n",
            "3/3 [==============================] - 0s 7ms/step - loss: 352.0967\n",
            "Epoch 3/10\n",
            "3/3 [==============================] - 0s 5ms/step - loss: 261.7025\n",
            "Epoch 4/10\n",
            "3/3 [==============================] - 0s 4ms/step - loss: 203.9223\n",
            "Epoch 5/10\n",
            "3/3 [==============================] - 0s 4ms/step - loss: 175.4682\n",
            "Epoch 6/10\n",
            "3/3 [==============================] - 0s 4ms/step - loss: 148.2503\n",
            "Epoch 7/10\n",
            "3/3 [==============================] - 0s 8ms/step - loss: 130.3923\n",
            "Epoch 8/10\n",
            "3/3 [==============================] - 0s 5ms/step - loss: 112.4841\n",
            "Epoch 9/10\n",
            "3/3 [==============================] - 0s 8ms/step - loss: 98.4868\n",
            "Epoch 10/10\n",
            "3/3 [==============================] - 0s 4ms/step - loss: 86.8462\n"
          ]
        },
        {
          "output_type": "execute_result",
          "data": {
            "text/plain": [
              "<keras.callbacks.History at 0x7f823057f8d0>"
            ]
          },
          "metadata": {},
          "execution_count": 43
        }
      ]
    },
    {
      "cell_type": "code",
      "source": [
        "model.evaluate(X_test, y_test)"
      ],
      "metadata": {
        "colab": {
          "base_uri": "https://localhost:8080/"
        },
        "id": "xQLuvTv0jXqd",
        "outputId": "a2479130-1595-4ec8-b97e-e1e49cd0fbed"
      },
      "execution_count": 44,
      "outputs": [
        {
          "output_type": "stream",
          "name": "stdout",
          "text": [
            "11/11 [==============================] - 0s 2ms/step - loss: 98.2713\n"
          ]
        },
        {
          "output_type": "execute_result",
          "data": {
            "text/plain": [
              "98.27125549316406"
            ]
          },
          "metadata": {},
          "execution_count": 44
        }
      ]
    },
    {
      "cell_type": "code",
      "source": [
        "model = Sequential()\n",
        "model.add(Dense(10, activation='relu', input_shape=(n_features,)))\n",
        "model.add(Dense(8, activation='relu'))\n",
        "model.add(Dense(1))\n",
        "\n",
        "optimizer = RMSprop(0.1) # 0.1 is the learning rate\n",
        "model.compile(loss='mean_squared_error',optimizer=optimizer) # compile the model\n",
        "\n",
        "epochs = 100\n",
        "\n",
        "# fit the model\n",
        "model.fit(X_train, y_train, epochs=epochs, batch_size=30, verbose = 1)\n",
        "\n",
        "# evaluate the model\n",
        "print('The MSE value is: ', model.evaluate(X_test, y_test))"
      ],
      "metadata": {
        "colab": {
          "base_uri": "https://localhost:8080/"
        },
        "id": "cnnOiMH_jdIL",
        "outputId": "fe74817f-68e8-4c1b-cff8-4a41d76d25b3"
      },
      "execution_count": 46,
      "outputs": [
        {
          "output_type": "stream",
          "name": "stdout",
          "text": [
            "Epoch 1/100\n",
            "3/3 [==============================] - 0s 5ms/step - loss: 27714.0156\n",
            "Epoch 2/100\n",
            "3/3 [==============================] - 0s 4ms/step - loss: 529.8994\n",
            "Epoch 3/100\n",
            "3/3 [==============================] - 0s 4ms/step - loss: 525.9877\n",
            "Epoch 4/100\n",
            "3/3 [==============================] - 0s 7ms/step - loss: 521.5396\n",
            "Epoch 5/100\n",
            "3/3 [==============================] - 0s 5ms/step - loss: 516.4633\n",
            "Epoch 6/100\n",
            "3/3 [==============================] - 0s 6ms/step - loss: 510.7737\n",
            "Epoch 7/100\n",
            "3/3 [==============================] - 0s 6ms/step - loss: 504.4339\n",
            "Epoch 8/100\n",
            "3/3 [==============================] - 0s 5ms/step - loss: 497.3824\n",
            "Epoch 9/100\n",
            "3/3 [==============================] - 0s 7ms/step - loss: 489.7551\n",
            "Epoch 10/100\n",
            "3/3 [==============================] - 0s 6ms/step - loss: 481.4855\n",
            "Epoch 11/100\n",
            "3/3 [==============================] - 0s 7ms/step - loss: 472.7433\n",
            "Epoch 12/100\n",
            "3/3 [==============================] - 0s 5ms/step - loss: 463.5360\n",
            "Epoch 13/100\n",
            "3/3 [==============================] - 0s 4ms/step - loss: 453.9601\n",
            "Epoch 14/100\n",
            "3/3 [==============================] - 0s 4ms/step - loss: 444.1794\n",
            "Epoch 15/100\n",
            "3/3 [==============================] - 0s 5ms/step - loss: 434.3156\n",
            "Epoch 16/100\n",
            "3/3 [==============================] - 0s 4ms/step - loss: 424.2919\n",
            "Epoch 17/100\n",
            "3/3 [==============================] - 0s 4ms/step - loss: 414.1125\n",
            "Epoch 18/100\n",
            "3/3 [==============================] - 0s 4ms/step - loss: 404.0421\n",
            "Epoch 19/100\n",
            "3/3 [==============================] - 0s 4ms/step - loss: 394.0811\n",
            "Epoch 20/100\n",
            "3/3 [==============================] - 0s 4ms/step - loss: 383.9123\n",
            "Epoch 21/100\n",
            "3/3 [==============================] - 0s 4ms/step - loss: 374.0359\n",
            "Epoch 22/100\n",
            "3/3 [==============================] - 0s 8ms/step - loss: 364.1783\n",
            "Epoch 23/100\n",
            "3/3 [==============================] - 0s 4ms/step - loss: 354.6642\n",
            "Epoch 24/100\n",
            "3/3 [==============================] - 0s 4ms/step - loss: 345.2094\n",
            "Epoch 25/100\n",
            "3/3 [==============================] - 0s 4ms/step - loss: 335.7482\n",
            "Epoch 26/100\n",
            "3/3 [==============================] - 0s 7ms/step - loss: 326.5236\n",
            "Epoch 27/100\n",
            "3/3 [==============================] - 0s 4ms/step - loss: 317.6138\n",
            "Epoch 28/100\n",
            "3/3 [==============================] - 0s 4ms/step - loss: 308.7932\n",
            "Epoch 29/100\n",
            "3/3 [==============================] - 0s 4ms/step - loss: 300.1038\n",
            "Epoch 30/100\n",
            "3/3 [==============================] - 0s 4ms/step - loss: 291.4493\n",
            "Epoch 31/100\n",
            "3/3 [==============================] - 0s 6ms/step - loss: 282.9833\n",
            "Epoch 32/100\n",
            "3/3 [==============================] - 0s 4ms/step - loss: 274.7456\n",
            "Epoch 33/100\n",
            "3/3 [==============================] - 0s 4ms/step - loss: 266.7484\n",
            "Epoch 34/100\n",
            "3/3 [==============================] - 0s 4ms/step - loss: 258.8740\n",
            "Epoch 35/100\n",
            "3/3 [==============================] - 0s 4ms/step - loss: 251.0998\n",
            "Epoch 36/100\n",
            "3/3 [==============================] - 0s 7ms/step - loss: 243.5835\n",
            "Epoch 37/100\n",
            "3/3 [==============================] - 0s 6ms/step - loss: 236.2420\n",
            "Epoch 38/100\n",
            "3/3 [==============================] - 0s 4ms/step - loss: 229.2163\n",
            "Epoch 39/100\n",
            "3/3 [==============================] - 0s 4ms/step - loss: 222.1788\n",
            "Epoch 40/100\n",
            "3/3 [==============================] - 0s 4ms/step - loss: 215.1771\n",
            "Epoch 41/100\n",
            "3/3 [==============================] - 0s 4ms/step - loss: 208.5088\n",
            "Epoch 42/100\n",
            "3/3 [==============================] - 0s 4ms/step - loss: 201.9112\n",
            "Epoch 43/100\n",
            "3/3 [==============================] - 0s 5ms/step - loss: 195.5836\n",
            "Epoch 44/100\n",
            "3/3 [==============================] - 0s 4ms/step - loss: 189.4081\n",
            "Epoch 45/100\n",
            "3/3 [==============================] - 0s 4ms/step - loss: 183.3689\n",
            "Epoch 46/100\n",
            "3/3 [==============================] - 0s 4ms/step - loss: 177.3010\n",
            "Epoch 47/100\n",
            "3/3 [==============================] - 0s 4ms/step - loss: 171.4394\n",
            "Epoch 48/100\n",
            "3/3 [==============================] - 0s 4ms/step - loss: 165.8146\n",
            "Epoch 49/100\n",
            "3/3 [==============================] - 0s 4ms/step - loss: 160.3999\n",
            "Epoch 50/100\n",
            "3/3 [==============================] - 0s 4ms/step - loss: 155.1825\n",
            "Epoch 51/100\n",
            "3/3 [==============================] - 0s 7ms/step - loss: 150.2872\n",
            "Epoch 52/100\n",
            "3/3 [==============================] - 0s 5ms/step - loss: 145.2925\n",
            "Epoch 53/100\n",
            "3/3 [==============================] - 0s 7ms/step - loss: 140.6491\n",
            "Epoch 54/100\n",
            "3/3 [==============================] - 0s 5ms/step - loss: 136.1181\n",
            "Epoch 55/100\n",
            "3/3 [==============================] - 0s 3ms/step - loss: 131.6646\n",
            "Epoch 56/100\n",
            "3/3 [==============================] - 0s 4ms/step - loss: 127.4497\n",
            "Epoch 57/100\n",
            "3/3 [==============================] - 0s 3ms/step - loss: 123.3047\n",
            "Epoch 58/100\n",
            "3/3 [==============================] - 0s 4ms/step - loss: 119.4272\n",
            "Epoch 59/100\n",
            "3/3 [==============================] - 0s 4ms/step - loss: 115.7299\n",
            "Epoch 60/100\n",
            "3/3 [==============================] - 0s 4ms/step - loss: 112.1149\n",
            "Epoch 61/100\n",
            "3/3 [==============================] - 0s 3ms/step - loss: 108.6190\n",
            "Epoch 62/100\n",
            "3/3 [==============================] - 0s 4ms/step - loss: 105.1381\n",
            "Epoch 63/100\n",
            "3/3 [==============================] - 0s 4ms/step - loss: 101.9613\n",
            "Epoch 64/100\n",
            "3/3 [==============================] - 0s 4ms/step - loss: 98.9855\n",
            "Epoch 65/100\n",
            "3/3 [==============================] - 0s 3ms/step - loss: 96.1656\n",
            "Epoch 66/100\n",
            "3/3 [==============================] - 0s 4ms/step - loss: 93.4542\n",
            "Epoch 67/100\n",
            "3/3 [==============================] - 0s 4ms/step - loss: 90.8119\n",
            "Epoch 68/100\n",
            "3/3 [==============================] - 0s 4ms/step - loss: 88.3561\n",
            "Epoch 69/100\n",
            "3/3 [==============================] - 0s 5ms/step - loss: 86.1227\n",
            "Epoch 70/100\n",
            "3/3 [==============================] - 0s 5ms/step - loss: 84.0969\n",
            "Epoch 71/100\n",
            "3/3 [==============================] - 0s 4ms/step - loss: 82.2082\n",
            "Epoch 72/100\n",
            "3/3 [==============================] - 0s 4ms/step - loss: 80.3146\n",
            "Epoch 73/100\n",
            "3/3 [==============================] - 0s 4ms/step - loss: 78.6125\n",
            "Epoch 74/100\n",
            "3/3 [==============================] - 0s 9ms/step - loss: 76.9775\n",
            "Epoch 75/100\n",
            "3/3 [==============================] - 0s 4ms/step - loss: 75.4197\n",
            "Epoch 76/100\n",
            "3/3 [==============================] - 0s 4ms/step - loss: 74.2469\n",
            "Epoch 77/100\n",
            "3/3 [==============================] - 0s 6ms/step - loss: 73.0105\n",
            "Epoch 78/100\n",
            "3/3 [==============================] - 0s 4ms/step - loss: 71.8779\n",
            "Epoch 79/100\n",
            "3/3 [==============================] - 0s 4ms/step - loss: 70.9412\n",
            "Epoch 80/100\n",
            "3/3 [==============================] - 0s 6ms/step - loss: 70.1275\n",
            "Epoch 81/100\n",
            "3/3 [==============================] - 0s 4ms/step - loss: 69.3701\n",
            "Epoch 82/100\n",
            "3/3 [==============================] - 0s 4ms/step - loss: 68.6585\n",
            "Epoch 83/100\n",
            "3/3 [==============================] - 0s 4ms/step - loss: 68.1208\n",
            "Epoch 84/100\n",
            "3/3 [==============================] - 0s 4ms/step - loss: 67.7127\n",
            "Epoch 85/100\n",
            "3/3 [==============================] - 0s 5ms/step - loss: 67.3608\n",
            "Epoch 86/100\n",
            "3/3 [==============================] - 0s 4ms/step - loss: 67.2325\n",
            "Epoch 87/100\n",
            "3/3 [==============================] - 0s 4ms/step - loss: 66.8997\n",
            "Epoch 88/100\n",
            "3/3 [==============================] - 0s 4ms/step - loss: 66.7191\n",
            "Epoch 89/100\n",
            "3/3 [==============================] - 0s 7ms/step - loss: 66.5620\n",
            "Epoch 90/100\n",
            "3/3 [==============================] - 0s 5ms/step - loss: 66.5548\n",
            "Epoch 91/100\n",
            "3/3 [==============================] - 0s 5ms/step - loss: 66.4792\n",
            "Epoch 92/100\n",
            "3/3 [==============================] - 0s 6ms/step - loss: 66.4861\n",
            "Epoch 93/100\n",
            "3/3 [==============================] - 0s 7ms/step - loss: 66.6226\n",
            "Epoch 94/100\n",
            "3/3 [==============================] - 0s 7ms/step - loss: 66.4584\n",
            "Epoch 95/100\n",
            "3/3 [==============================] - 0s 4ms/step - loss: 66.5278\n",
            "Epoch 96/100\n",
            "3/3 [==============================] - 0s 3ms/step - loss: 66.3823\n",
            "Epoch 97/100\n",
            "3/3 [==============================] - 0s 5ms/step - loss: 66.3661\n",
            "Epoch 98/100\n",
            "3/3 [==============================] - 0s 4ms/step - loss: 66.3996\n",
            "Epoch 99/100\n",
            "3/3 [==============================] - 0s 4ms/step - loss: 66.4410\n",
            "Epoch 100/100\n",
            "3/3 [==============================] - 0s 4ms/step - loss: 66.3202\n",
            "11/11 [==============================] - 0s 3ms/step - loss: 94.0189\n",
            "The MSE value is:  94.0189437866211\n"
          ]
        }
      ]
    },
    {
      "cell_type": "code",
      "source": [
        "from sklearn.model_selection import GridSearchCV\n",
        "model = Sequential()\n",
        "model.add(Dense(10, activation='relu',input_shape = (n_features,)))\n",
        "model.add(Dense(8,activation='relu'))\n",
        "model.add(Dense(1))\n",
        "\n",
        "optimizer = RMSprop(0.1)\n",
        "model.compile(loss='mean_squared_error',optimizer = optimizer)\n",
        "\n",
        "batch_size = [10,20,40,60,80,100]\n",
        "epochs = [10,50,100]\n",
        "\n",
        "param_grid = dict(batch_size = batch_size, epochs=epochs)\n",
        "grid = GridSearchCV(estimator=model,param_grid=param_grid, scoring='neg_mean_squared_error',n_jobs=1)\n",
        "\n",
        "grid_result = grid.fit(X_train,y_train)\n",
        "\n",
        "print(\"Best: %f using %s\" % (grid_result.best_score_, grid_result.best_params_))"
      ],
      "metadata": {
        "colab": {
          "base_uri": "https://localhost:8080/",
          "height": 514
        },
        "id": "kg56L5S-TZ76",
        "outputId": "78a41cff-9024-48cb-a8f3-3ebdc2895ec3"
      },
      "execution_count": 48,
      "outputs": [
        {
          "output_type": "error",
          "ename": "TypeError",
          "evalue": "ignored",
          "traceback": [
            "\u001b[0;31m---------------------------------------------------------------------------\u001b[0m",
            "\u001b[0;31mTypeError\u001b[0m                                 Traceback (most recent call last)",
            "\u001b[0;32m<ipython-input-48-4c87084780ac>\u001b[0m in \u001b[0;36m<module>\u001b[0;34m()\u001b[0m\n\u001b[1;32m     14\u001b[0m \u001b[0mgrid\u001b[0m \u001b[0;34m=\u001b[0m \u001b[0mGridSearchCV\u001b[0m\u001b[0;34m(\u001b[0m\u001b[0mestimator\u001b[0m\u001b[0;34m=\u001b[0m\u001b[0mmodel\u001b[0m\u001b[0;34m,\u001b[0m\u001b[0mparam_grid\u001b[0m\u001b[0;34m=\u001b[0m\u001b[0mparam_grid\u001b[0m\u001b[0;34m,\u001b[0m \u001b[0mscoring\u001b[0m\u001b[0;34m=\u001b[0m\u001b[0;34m'neg_mean_squared_error'\u001b[0m\u001b[0;34m,\u001b[0m\u001b[0mn_jobs\u001b[0m\u001b[0;34m=\u001b[0m\u001b[0;36m1\u001b[0m\u001b[0;34m)\u001b[0m\u001b[0;34m\u001b[0m\u001b[0;34m\u001b[0m\u001b[0m\n\u001b[1;32m     15\u001b[0m \u001b[0;34m\u001b[0m\u001b[0m\n\u001b[0;32m---> 16\u001b[0;31m \u001b[0mgrid_result\u001b[0m \u001b[0;34m=\u001b[0m \u001b[0mgrid\u001b[0m\u001b[0;34m.\u001b[0m\u001b[0mfit\u001b[0m\u001b[0;34m(\u001b[0m\u001b[0mX_train\u001b[0m\u001b[0;34m,\u001b[0m\u001b[0my_train\u001b[0m\u001b[0;34m)\u001b[0m\u001b[0;34m\u001b[0m\u001b[0;34m\u001b[0m\u001b[0m\n\u001b[0m\u001b[1;32m     17\u001b[0m \u001b[0;34m\u001b[0m\u001b[0m\n\u001b[1;32m     18\u001b[0m \u001b[0mprint\u001b[0m\u001b[0;34m(\u001b[0m\u001b[0;34m\"Best: %f using %s\"\u001b[0m \u001b[0;34m%\u001b[0m \u001b[0;34m(\u001b[0m\u001b[0mgrid_result\u001b[0m\u001b[0;34m.\u001b[0m\u001b[0mbest_score_\u001b[0m\u001b[0;34m,\u001b[0m \u001b[0mgrid_result\u001b[0m\u001b[0;34m.\u001b[0m\u001b[0mbest_params_\u001b[0m\u001b[0;34m)\u001b[0m\u001b[0;34m)\u001b[0m\u001b[0;34m\u001b[0m\u001b[0;34m\u001b[0m\u001b[0m\n",
            "\u001b[0;32m/usr/local/lib/python3.7/dist-packages/sklearn/model_selection/_search.py\u001b[0m in \u001b[0;36mfit\u001b[0;34m(self, X, y, groups, **fit_params)\u001b[0m\n\u001b[1;32m    803\u001b[0m         \u001b[0mn_splits\u001b[0m \u001b[0;34m=\u001b[0m \u001b[0mcv_orig\u001b[0m\u001b[0;34m.\u001b[0m\u001b[0mget_n_splits\u001b[0m\u001b[0;34m(\u001b[0m\u001b[0mX\u001b[0m\u001b[0;34m,\u001b[0m \u001b[0my\u001b[0m\u001b[0;34m,\u001b[0m \u001b[0mgroups\u001b[0m\u001b[0;34m)\u001b[0m\u001b[0;34m\u001b[0m\u001b[0;34m\u001b[0m\u001b[0m\n\u001b[1;32m    804\u001b[0m \u001b[0;34m\u001b[0m\u001b[0m\n\u001b[0;32m--> 805\u001b[0;31m         \u001b[0mbase_estimator\u001b[0m \u001b[0;34m=\u001b[0m \u001b[0mclone\u001b[0m\u001b[0;34m(\u001b[0m\u001b[0mself\u001b[0m\u001b[0;34m.\u001b[0m\u001b[0mestimator\u001b[0m\u001b[0;34m)\u001b[0m\u001b[0;34m\u001b[0m\u001b[0;34m\u001b[0m\u001b[0m\n\u001b[0m\u001b[1;32m    806\u001b[0m \u001b[0;34m\u001b[0m\u001b[0m\n\u001b[1;32m    807\u001b[0m         \u001b[0mparallel\u001b[0m \u001b[0;34m=\u001b[0m \u001b[0mParallel\u001b[0m\u001b[0;34m(\u001b[0m\u001b[0mn_jobs\u001b[0m\u001b[0;34m=\u001b[0m\u001b[0mself\u001b[0m\u001b[0;34m.\u001b[0m\u001b[0mn_jobs\u001b[0m\u001b[0;34m,\u001b[0m \u001b[0mpre_dispatch\u001b[0m\u001b[0;34m=\u001b[0m\u001b[0mself\u001b[0m\u001b[0;34m.\u001b[0m\u001b[0mpre_dispatch\u001b[0m\u001b[0;34m)\u001b[0m\u001b[0;34m\u001b[0m\u001b[0;34m\u001b[0m\u001b[0m\n",
            "\u001b[0;32m/usr/local/lib/python3.7/dist-packages/sklearn/base.py\u001b[0m in \u001b[0;36mclone\u001b[0;34m(estimator, safe)\u001b[0m\n\u001b[1;32m     78\u001b[0m                     \u001b[0;34m\"it does not seem to be a scikit-learn \"\u001b[0m\u001b[0;34m\u001b[0m\u001b[0;34m\u001b[0m\u001b[0m\n\u001b[1;32m     79\u001b[0m                     \u001b[0;34m\"estimator as it does not implement a \"\u001b[0m\u001b[0;34m\u001b[0m\u001b[0;34m\u001b[0m\u001b[0m\n\u001b[0;32m---> 80\u001b[0;31m                     \u001b[0;34m\"'get_params' method.\"\u001b[0m \u001b[0;34m%\u001b[0m \u001b[0;34m(\u001b[0m\u001b[0mrepr\u001b[0m\u001b[0;34m(\u001b[0m\u001b[0mestimator\u001b[0m\u001b[0;34m)\u001b[0m\u001b[0;34m,\u001b[0m \u001b[0mtype\u001b[0m\u001b[0;34m(\u001b[0m\u001b[0mestimator\u001b[0m\u001b[0;34m)\u001b[0m\u001b[0;34m)\u001b[0m\u001b[0;34m\u001b[0m\u001b[0;34m\u001b[0m\u001b[0m\n\u001b[0m\u001b[1;32m     81\u001b[0m                 )\n\u001b[1;32m     82\u001b[0m \u001b[0;34m\u001b[0m\u001b[0m\n",
            "\u001b[0;31mTypeError\u001b[0m: Cannot clone object '<keras.engine.sequential.Sequential object at 0x7f822f0bd710>' (type <class 'keras.engine.sequential.Sequential'>): it does not seem to be a scikit-learn estimator as it does not implement a 'get_params' method."
          ]
        }
      ]
    },
    {
      "cell_type": "code",
      "source": [
        "from keras.wrappers.scikit_learn import KerasRegressor\n",
        "\n",
        "def create_model(optimizer=RMSprop(0.01)):\n",
        "  model = Sequential()\n",
        "  model.add(Dense(10, activation='relu', input_shape=(n_features,)))\n",
        "  model.add(Dense(8, activation='relu'))\n",
        "  model.add(Dense(1))\n",
        "  model.compile(loss='mse', metrics=['mse'], optimizer=optimizer)\n",
        "  return model\n",
        "\n",
        "model = KerasRegressor(build_fn=create_model, verbose=1)\n",
        "\n",
        "batch_size = [10, 20, 30, 40, 60, 80, 100]\n",
        "epochs = [10, 50, 100]\n",
        "param_grid = dict(batch_size=batch_size, nb_epoch=epochs)\n",
        "model = KerasRegressor(build_fn=create_model, verbose=1)\n",
        "\n",
        "grid = GridSearchCV(estimator=model, param_grid=param_grid,cv=5,n_jobs=-1)\n",
        "grid_result = grid.fit(X_train,y_train,verbose=1)\n",
        "\n",
        "print('Best params: ' + str(grid_result.best_params_))\n"
      ],
      "metadata": {
        "colab": {
          "base_uri": "https://localhost:8080/"
        },
        "id": "d9WG59srVYo0",
        "outputId": "1adea6fc-a534-4ce7-f102-ec88f0b909a9"
      },
      "execution_count": 50,
      "outputs": [
        {
          "output_type": "stream",
          "name": "stderr",
          "text": [
            "/usr/local/lib/python3.7/dist-packages/ipykernel_launcher.py:11: DeprecationWarning: KerasRegressor is deprecated, use Sci-Keras (https://github.com/adriangb/scikeras) instead. See https://www.adriangb.com/scikeras/stable/migration.html for help migrating.\n",
            "  # This is added back by InteractiveShellApp.init_path()\n",
            "/usr/local/lib/python3.7/dist-packages/ipykernel_launcher.py:16: DeprecationWarning: KerasRegressor is deprecated, use Sci-Keras (https://github.com/adriangb/scikeras) instead. See https://www.adriangb.com/scikeras/stable/migration.html for help migrating.\n",
            "  app.launch_new_instance()\n"
          ]
        },
        {
          "output_type": "stream",
          "name": "stdout",
          "text": [
            "8/8 [==============================] - 1s 4ms/step - loss: 976.5563 - mse: 976.5563\n",
            "Best params: {'batch_size': 10, 'nb_epoch': 50}\n"
          ]
        }
      ]
    },
    {
      "cell_type": "code",
      "source": [
        "from sklearn.model_selection import cross_val_score\n",
        "\n",
        "results= cross_val_score(grid.best_estimator_,X_test, y_test, cv=5)\n",
        "\n",
        "print('Results: \\n * Mean:', -results.mean(), '\\n * Std:', results.std())"
      ],
      "metadata": {
        "colab": {
          "base_uri": "https://localhost:8080/"
        },
        "id": "RKf7g6leWmky",
        "outputId": "b133e45e-1f66-4d42-d33e-5dc903eec200"
      },
      "execution_count": 51,
      "outputs": [
        {
          "output_type": "stream",
          "name": "stdout",
          "text": [
            "26/26 [==============================] - 1s 2ms/step - loss: 170.8135 - mse: 170.8135\n",
            "7/7 [==============================] - 0s 3ms/step - loss: 60.1521 - mse: 60.1521\n",
            "26/26 [==============================] - 1s 2ms/step - loss: 135.1722 - mse: 135.1722\n",
            "7/7 [==============================] - 0s 2ms/step - loss: 85.8426 - mse: 85.8426\n",
            "26/26 [==============================] - 1s 2ms/step - loss: 324.6361 - mse: 324.6361\n",
            "7/7 [==============================] - 0s 2ms/step - loss: 369.4771 - mse: 369.4771\n",
            "26/26 [==============================] - 1s 1ms/step - loss: 206.0502 - mse: 206.0502\n",
            "7/7 [==============================] - 0s 2ms/step - loss: 103.4577 - mse: 103.4577\n",
            "26/26 [==============================] - 0s 1ms/step - loss: 289.2316 - mse: 289.2316\n",
            "7/7 [==============================] - 0s 3ms/step - loss: 83.3573 - mse: 83.3573\n",
            "Results: \n",
            " * Mean: 140.4573860168457 \n",
            " * Std: 115.33529366117182\n"
          ]
        }
      ]
    },
    {
      "cell_type": "code",
      "source": [
        "# !pip install -q -U keras-tuner"
      ],
      "metadata": {
        "id": "29-foFfXfMdb"
      },
      "execution_count": 55,
      "outputs": []
    },
    {
      "cell_type": "code",
      "source": [
        "import kerastuner as kt\n",
        "\n",
        "def model_builder(hp):\n",
        "  model = Sequential()\n",
        "  model.add(Dense(10, activation='relu', input_shape=(n_features,)))\n",
        "  model.add(Dense(8, activation='relu'))\n",
        "  model.add(Dense(1))\n",
        "  hp_learning_rate = hp.Choice('learning_rate', values = [1e-1, 1e-2, 1e-3, 1e-4]) # Tuning the learning rate (four different values to test: 0.1, 0.01, 0.001, 0.0001)\n",
        "  optimizer = RMSprop(learning_rate = hp_learning_rate) # Defining the optimizer\n",
        "  model.compile(loss='mse',metrics=['mse'], optimizer=optimizer) # Compiling the model\n",
        "  return model"
      ],
      "metadata": {
        "id": "fGjKxFl2ZjqY"
      },
      "execution_count": 56,
      "outputs": []
    },
    {
      "cell_type": "code",
      "source": [
        "tuner_rs = kt.RandomSearch(model_builder, objective='mse', seed = 42,\n",
        "                           max_trials = 5, directory = 'random_search')\n",
        "\n",
        "tuner_rs.search(X_train,y_train,epochs=10, validation_split =0.2, verbose=1)"
      ],
      "metadata": {
        "colab": {
          "base_uri": "https://localhost:8080/"
        },
        "id": "_DwvzwwNfLAo",
        "outputId": "bdf1aad3-f268-451c-bdf2-38028f1ab547"
      },
      "execution_count": 57,
      "outputs": [
        {
          "output_type": "stream",
          "name": "stdout",
          "text": [
            "Trial 4 Complete [00h 00m 01s]\n",
            "mse: 39.976837158203125\n",
            "\n",
            "Best mse So Far: 39.976837158203125\n",
            "Total elapsed time: 00h 00m 06s\n",
            "INFO:tensorflow:Oracle triggered exit\n"
          ]
        }
      ]
    },
    {
      "cell_type": "code",
      "source": [
        "tuner_rs.results_summary()"
      ],
      "metadata": {
        "colab": {
          "base_uri": "https://localhost:8080/"
        },
        "id": "501cdlWnfy_B",
        "outputId": "66fa47cc-245e-49dd-a702-8fa9305f670a"
      },
      "execution_count": 58,
      "outputs": [
        {
          "output_type": "stream",
          "name": "stdout",
          "text": [
            "Results summary\n",
            "Results in random_search/untitled_project\n",
            "Showing 10 best trials\n",
            "<keras_tuner.engine.objective.Objective object at 0x7f822a56de50>\n",
            "Trial summary\n",
            "Hyperparameters:\n",
            "learning_rate: 0.01\n",
            "Score: 39.976837158203125\n",
            "Trial summary\n",
            "Hyperparameters:\n",
            "learning_rate: 0.1\n",
            "Score: 537.7604370117188\n",
            "Trial summary\n",
            "Hyperparameters:\n",
            "learning_rate: 0.001\n",
            "Score: 1598.847900390625\n",
            "Trial summary\n",
            "Hyperparameters:\n",
            "learning_rate: 0.0001\n",
            "Score: 4317.84423828125\n"
          ]
        }
      ]
    },
    {
      "cell_type": "code",
      "source": [
        "best_model = tuner_rs.get_best_models(num_models=1)[0]\n",
        "best_model.evaluate(X_test, y_test)"
      ],
      "metadata": {
        "colab": {
          "base_uri": "https://localhost:8080/"
        },
        "id": "gw06-UYvf4wE",
        "outputId": "c0027c2c-fb68-42c2-a401-bd3f2b57daa2"
      },
      "execution_count": 59,
      "outputs": [
        {
          "output_type": "stream",
          "name": "stdout",
          "text": [
            "11/11 [==============================] - 0s 2ms/step - loss: 91.6479 - mse: 91.6479\n"
          ]
        },
        {
          "output_type": "execute_result",
          "data": {
            "text/plain": [
              "[91.64788055419922, 91.64788055419922]"
            ]
          },
          "metadata": {},
          "execution_count": 59
        }
      ]
    },
    {
      "cell_type": "code",
      "source": [
        "best_model.summary()\n"
      ],
      "metadata": {
        "colab": {
          "base_uri": "https://localhost:8080/"
        },
        "id": "tsUji1fBf73m",
        "outputId": "3550cb30-07e0-4321-befb-d0745add6ff8"
      },
      "execution_count": 60,
      "outputs": [
        {
          "output_type": "stream",
          "name": "stdout",
          "text": [
            "Model: \"sequential\"\n",
            "_________________________________________________________________\n",
            " Layer (type)                Output Shape              Param #   \n",
            "=================================================================\n",
            " dense (Dense)               (None, 10)                140       \n",
            "                                                                 \n",
            " dense_1 (Dense)             (None, 8)                 88        \n",
            "                                                                 \n",
            " dense_2 (Dense)             (None, 1)                 9         \n",
            "                                                                 \n",
            "=================================================================\n",
            "Total params: 237\n",
            "Trainable params: 237\n",
            "Non-trainable params: 0\n",
            "_________________________________________________________________\n"
          ]
        }
      ]
    }
  ]
}